{
 "cells": [
  {
   "cell_type": "code",
   "execution_count": 1,
   "metadata": {},
   "outputs": [],
   "source": [
    "import subprocess\n",
    "import os\n",
    "from z3 import *\n",
    "import numpy as np\n",
    "\n",
    "# Run the C executable\n",
    "os.chdir(\"G:\\Padhai\\Mtech\\VLSI\")\n",
    "path =  os.getcwd()\n",
    "#print(path)\n",
    "os.chmod(path+\"/motion.exe\", 0o777)"
   ]
  },
  {
   "cell_type": "code",
   "execution_count": 8,
   "metadata": {},
   "outputs": [],
   "source": [
    "def fun_1(in1,in2,key1,key4,key7,key13,key18):\n",
    "\n",
    "\n",
    "    mult1 = in1 * in2\n",
    "    mult2 = If(key7, in1 * key1, in1 - 2)\n",
    "    add1 = If(key18, in1 * mult2, in1 + 34)\n",
    "    \n",
    "\n",
    "    add6 = If(key13, mult1*add1, mult1+add1)\n",
    "\n",
    "    out1 = add6+key4\n",
    "\n",
    "    return out1"
   ]
  },
  {
   "cell_type": "code",
   "execution_count": 24,
   "metadata": {},
   "outputs": [],
   "source": [
    "def fun_2(in2,in3,in4,in5,in6,in7,key2,key3,key5,key8,key9,key10,key15,key16,key17):\n",
    "\n",
    "    mult3 = If(key8, in3 * key2, in3 + 10)\n",
    "    mult4 = in4 * in5\n",
    "    mult5 = If(key9, in3 * in2, in3 + 4)\n",
    "    mult6 = in2 * in5\n",
    "    mult7 = If(key10, in3 * in6, in3 + 9)\n",
    "    mult8 = in4 * in7\n",
    "\n",
    "    add2 = key3 * mult4\n",
    "    add3 = in5 * mult8\n",
    "\n",
    "    add7 = If(key15, mult3-add2, mult3+add2)\n",
    "    add8 = If(key16, mult5/add7, mult5+add7)\n",
    "    \n",
    "    add10 = mult7 + add3\n",
    "    add9 = mult6+add10\n",
    "\n",
    "    shf1 = If(key17, add9 * 4, add9 * 8)\n",
    "\n",
    "    out2 = add8+shf1+key5\n",
    "\n",
    "    return out2"
   ]
  },
  {
   "cell_type": "code",
   "execution_count": 25,
   "metadata": {},
   "outputs": [],
   "source": [
    "def fun_2_chk(in2,in3,in4,in5,in6,in7,key2,key3,key5,key8,key9,key10,key15,key16,key17):\n",
    "    \n",
    "    mult3 = in3 * key2 if key8 else in3 + 10\n",
    "    mult4 = in4 * in5\n",
    "    mult5 = in3 * in2 if key9 else in3 + 4\n",
    "    mult6 = in2 * in5\n",
    "    mult7 = in3 * in6 if key10 else in3 + 9\n",
    "    mult8 = in4 * in7\n",
    "\n",
    "    add2 = key3 * mult4\n",
    "    add3 = in5 * mult8\n",
    "\n",
    "    add7 = mult3 - add2 if key15 else mult3 + add2\n",
    "    add8 = mult5 / add7 if key16 else mult5 + add7\n",
    "\n",
    "    add10 = mult7 + add3\n",
    "    add9 = mult6 + add10\n",
    "\n",
    "    shf1 = add9 << 2 if key17 else add9 << 3\n",
    "    \n",
    "    out2 = add8 + shf1 + key5\n",
    "\n",
    "    return out2\n",
    "\n"
   ]
  },
  {
   "cell_type": "code",
   "execution_count": 20,
   "metadata": {},
   "outputs": [],
   "source": [
    "def fun_1_chk(in1,in2,key1,key4,key7,key13,key18):\n",
    "\n",
    "\n",
    "    mult1 = in1 * in2\n",
    "    mult2 = in1 * key1 if key7 else in1 - 2\n",
    "    add1 = in1 * mult2 if key18 else in1 + 34\n",
    "    add6 = mult1 * add1 if key13 else mult1 + add1\n",
    "    out1 = add6 + key4\n",
    "\n",
    "\n",
    "\n",
    "    return out1"
   ]
  },
  {
   "cell_type": "code",
   "execution_count": 3,
   "metadata": {},
   "outputs": [],
   "source": [
    "def oracle(in1,in2,in3,in4,in5,in6,in7,in8,in9,in10):    \n",
    "\n",
    "    # if(os.access(path+\"/motion.exe\",os.X_OK)):\n",
    "    #     print(\"Exec Permission granted\")\n",
    "    # else:\n",
    "    #     print(\"Exec permit denied\")\n",
    "\n",
    "    result = subprocess.run(['./motion.exe',str(in1),str(in2),str(in3),str(in4),str(in5),str(in6),str(in7),str(in8),str(in9),str(in10)] , stdout=subprocess.PIPE, stderr=subprocess.PIPE)\n",
    "    #result = subprocess.run(['./motion.exe',\"1\",\"2\",\"3\",\"4\",\"5\",\"6\",\"7\",\"8\",\"9\",\"10\"] , stdout=subprocess.PIPE, stderr=subprocess.PIPE)\n",
    "\n",
    "    #print(type(result))\n",
    "\n",
    "    # Get the output and error messages from the C executable\n",
    "    output = result.stdout.decode().strip()  # Decode the stdout output and remove any trailing whitespace\n",
    "    output_list = output.split()  # Split the output by whitespace\n",
    "    output_tuple = tuple(map(int, output_list))  # Convert each element to an integer and convert the list to a tuple\n",
    "\n",
    "    # error = result.stderr.decode('utf-8')\n",
    "\n",
    "    #print(type(result.stdout))\n",
    "    # Print the output and error messages\n",
    "    # print(\"Output:\", output)\n",
    "    # print(\"Error:\", error)\n",
    "\n",
    "    # # Get the return code of the C executable\n",
    "    # return_code = result.returncode\n",
    "\n",
    "    # # Print the return code\n",
    "    # print(\"Return code:\", return_code)\n",
    "    return output_tuple\n",
    "\n",
    "    "
   ]
  },
  {
   "cell_type": "code",
   "execution_count": 5,
   "metadata": {},
   "outputs": [],
   "source": [
    "in1 = Int(\"in1\")\n",
    "in2 = Int(\"in2\")\n",
    "in3 = Int(\"in3\")\n",
    "in4 = Int(\"in4\")\n",
    "in5 = Int(\"in5\")\n",
    "in6 = Int(\"in6\")\n",
    "in7 = Int(\"in7\")\n",
    "in8 = Int(\"in8\")\n",
    "in9 = Int(\"in9\")\n",
    "in10 = Int(\"in10\")\n",
    "\n",
    "key11 = Int(\"key11\")\n",
    "key21 = Int(\"key21\")\n",
    "key31 = Int(\"key31\")\n",
    "key41 = Int(\"key41\")\n",
    "key51 = Int(\"key51\")\n",
    "key61 = Int(\"key61\")\n",
    "key71 = Bool(\"key71\")\n",
    "key81 = Bool(\"key81\")\n",
    "key91 = Bool(\"key91\")\n",
    "key101 = Bool(\"key101\")\n",
    "key111 = Bool(\"key111\")\n",
    "key121 = Bool(\"key121\")\n",
    "key131 = Bool(\"key131\")\n",
    "key141 = Bool(\"key141\")\n",
    "key151 = Bool(\"key151\")\n",
    "key161 = Bool(\"key161\")\n",
    "key171 = Bool(\"key171\")\n",
    "key181 = Bool(\"key181\")\n",
    "key191 = Bool(\"key191\")\n",
    "key201 = Bool(\"key201\")\n",
    "\n",
    "key12 = Int(\"key12\")\n",
    "key22 = Int(\"key22\")\n",
    "key32 = Int(\"key32\")\n",
    "key42 = Int(\"key42\")\n",
    "key52 = Int(\"key52\")\n",
    "key62 = Int(\"key62\")\n",
    "key72 = Bool(\"key72\")\n",
    "key82 = Bool(\"key82\")\n",
    "key92 = Bool(\"key92\")\n",
    "key102 = Bool(\"key102\")\n",
    "key112 = Bool(\"key112\")\n",
    "key122 = Bool(\"key122\")\n",
    "key132 = Bool(\"key132\")\n",
    "key142 = Bool(\"key142\")\n",
    "key152 = Bool(\"key152\")\n",
    "key162 = Bool(\"key162\")\n",
    "key172 = Bool(\"key172\")\n",
    "key182 = Bool(\"key182\")\n",
    "key192 = Bool(\"key192\")\n",
    "key202 = Bool(\"key202\")\n",
    "\n",
    "out1 = Int(\"out1\")\n",
    "out2 = Int(\"out2\")\n",
    "# o11= Int(\"o11\")\n",
    "# o21 = Int(\"o21\")\n",
    "# o31 = Int(\"o31\")\n",
    "# o12= Int(\"o12\")\n",
    "# o22 = Int(\"o22\")\n",
    "# o32 = Int(\"o32\")\n",
    "\n",
    "# out1 = (o11,o21,o31)\n",
    "# out2 = (o12,o22,o32)\n",
    "\n",
    "# lst1 = [key11,key21,key31,key41,key51,key61,key71,key81,key91,key101,key111,key121,key131,key141,key151,key161,key171,key181,key191,key201]\n",
    "# lst2 =[key12,key22,key32,key42,key52,key62,key72,key82,key92,key102,key112,key122,key132,key142,key152,key162,key172,key182,key192,key202]\n",
    "# lst = [in1,in2,in3,in4,in5,in6,in7,in8,in9,in10]\n"
   ]
  },
  {
   "cell_type": "code",
   "execution_count": 16,
   "metadata": {},
   "outputs": [
    {
     "name": "stdout",
     "output_type": "stream",
     "text": [
      "<class 'z3.z3.ArithRef'>\n"
     ]
    }
   ],
   "source": [
    "print(type(out1))"
   ]
  },
  {
   "cell_type": "code",
   "execution_count": 11,
   "metadata": {},
   "outputs": [],
   "source": [
    "s = Solver()\n",
    "lst = [in1,in2]\n"
   ]
  },
  {
   "cell_type": "code",
   "execution_count": 12,
   "metadata": {},
   "outputs": [
    {
     "name": "stdout",
     "output_type": "stream",
     "text": [
      "sat\n",
      "in1 0\n",
      "in2 0\n",
      "sat\n",
      "in1 1\n",
      "in2 1\n",
      "sat\n",
      "in1 2\n",
      "in2 0\n"
     ]
    }
   ],
   "source": [
    "s.add(in1>=0)\n",
    "s.add(in2>=0)\n",
    "\n",
    "s.add(out1==fun_1(in1,in2,key11,key41,key71,key131,key181))\n",
    "s.add(out2==fun_1(in1,in2,key12,key42,key72,key132,key182))\n",
    "\n",
    "s.add(out1!=out2)\n",
    "iter = 1\n",
    "while(s.check()==sat):\n",
    "\n",
    "    print(\"sat\")\n",
    "\n",
    "    m = s.model()\n",
    "    for i in lst:\n",
    "        print(i,m[i])\n",
    "    dip = []\n",
    "    #s_1.pop()\n",
    "\n",
    "    for i in lst:\n",
    "        dip.append(m[i])\n",
    "    \n",
    "    true_out = oracle(dip[0],dip[1],0,0,0,0,0,0,0,0)\n",
    "\n",
    "    s.add(fun_1(dip[0],dip[1],key11,key41,key71,key131,key181)==true_out[0])\n",
    "    s.add(fun_1(dip[0],dip[1],key12,key42,key72,key132,key182)==true_out[0])\n",
    "\n",
    "    iter+=1\n",
    "\n",
    "    if iter>=5:\n",
    "\n",
    "        print(\"break\")\n",
    "        break\n"
   ]
  },
  {
   "cell_type": "code",
   "execution_count": 13,
   "metadata": {},
   "outputs": [],
   "source": [
    "lst1 = [key11,key41,key71,key131,key181]\n",
    "lst2 = [key12,key42,key72,key132,key182]"
   ]
  },
  {
   "cell_type": "code",
   "execution_count": 14,
   "metadata": {},
   "outputs": [
    {
     "name": "stdout",
     "output_type": "stream",
     "text": [
      "key11 10\n",
      "key41 300\n",
      "key71 True\n",
      "key131 False\n",
      "key181 True\n"
     ]
    }
   ],
   "source": [
    "for i in lst1:\n",
    "    print(i,m[i])"
   ]
  },
  {
   "cell_type": "code",
   "execution_count": 15,
   "metadata": {},
   "outputs": [
    {
     "name": "stdout",
     "output_type": "stream",
     "text": [
      "key12 11\n",
      "key42 300\n",
      "key72 True\n",
      "key132 True\n",
      "key182 True\n"
     ]
    }
   ],
   "source": [
    "for i in lst2:\n",
    "    print(i,m[i])"
   ]
  },
  {
   "cell_type": "code",
   "execution_count": 23,
   "metadata": {},
   "outputs": [
    {
     "name": "stdout",
     "output_type": "stream",
     "text": [
      "1500\n",
      "220300\n",
      "1500\n"
     ]
    }
   ],
   "source": [
    "ans = fun_1_chk(10,20,10,300,True,False,True)\n",
    "ans1 = fun_1_chk(10,20,11,300,True,True,True)\n",
    "ans2 = oracle(10,20,0,0,0,0,0,0,0,0)\n",
    "print(ans)\n",
    "print(ans1)\n",
    "print(ans2[0])"
   ]
  },
  {
   "cell_type": "code",
   "execution_count": 27,
   "metadata": {},
   "outputs": [],
   "source": [
    "s_1 = Solver()\n",
    "out2_1 = Int(\"out2_1\")\n",
    "out2_2 = Int(\"out2_2\")\n",
    "\n",
    "\n",
    "# in2,in3,in4,in5,in6,in7,key2,key3,key5,key8,key9,key10,key15,key16,key17)\n",
    "lst = [in2,in3,in4,in5,in6,in7]\n",
    "lst1 = [key21,key31,key51,key81,key91,key101,key151,key161,key171]\n",
    "lst2 =  [key22,key32,key52,key82,key92,key102,key152,key162,key172]\n"
   ]
  },
  {
   "cell_type": "code",
   "execution_count": null,
   "metadata": {},
   "outputs": [],
   "source": [
    "s_1.add(in2>=0)\n",
    "s_1.add(in3>=0)\n",
    "s_1.add(in4>=0)\n",
    "s_1.add(in5>=0)\n",
    "s_1.add(in6>=0)\n",
    "s_1.add(in7>=0)\n",
    "\n",
    "s.add(out2_1==fun_2(in2,in3,in4,in5,in6,in7,key21,key31,key51,key81,key91,key101,key151,key161,key171))\n",
    "s.add(out2_2==fun_2(in2,in3,in4,in5,in6,in7,key22,key32,key52,key82,key92,key102,key152,key162,key172))\n",
    "\n",
    "s.add(out2_1!=out2_2)\n",
    "\n",
    "iter = 1\n",
    "\n",
    "while(s.check()==sat):\n",
    "\n",
    "    print(\"sat\")\n",
    "\n",
    "    m = s.model()\n",
    "    for i in lst:\n",
    "        print(i,m[i])\n",
    "    dip = []\n",
    "    #s_1.pop()\n",
    "\n",
    "    for i in lst:\n",
    "        dip.append(m[i])\n",
    "    \n",
    "    true_out = oracle(0,dip[1],dip[2],dip[3],dip[4],dip[5],dip[6],0,0,0)\n",
    "\n",
    "    s.add(fun_2(in2,in3,in4,in5,in6,in7,key21,key31,key51,key81,key91,key101,key151,key161,key171)==true_out[1])\n",
    "    s.add(fun_2(in2,in3,in4,in5,in6,in7,key22,key32,key52,key82,key92,key102,key152,key162,key172)==true_out[1])\n",
    "\n",
    "    iter+=1\n",
    "\n",
    "    if iter>=5:\n",
    "\n",
    "        print(\"break\")\n",
    "        break\n"
   ]
  }
 ],
 "metadata": {
  "kernelspec": {
   "display_name": "Python 3",
   "language": "python",
   "name": "python3"
  },
  "language_info": {
   "codemirror_mode": {
    "name": "ipython",
    "version": 3
   },
   "file_extension": ".py",
   "mimetype": "text/x-python",
   "name": "python",
   "nbconvert_exporter": "python",
   "pygments_lexer": "ipython3",
   "version": "3.11.0"
  },
  "orig_nbformat": 4
 },
 "nbformat": 4,
 "nbformat_minor": 2
}
